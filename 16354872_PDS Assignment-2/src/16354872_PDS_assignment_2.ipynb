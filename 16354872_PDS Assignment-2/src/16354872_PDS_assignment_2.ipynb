{
  "nbformat": 4,
  "nbformat_minor": 0,
  "metadata": {
    "colab": {
      "provenance": []
    },
    "kernelspec": {
      "name": "python3",
      "display_name": "Python 3"
    },
    "language_info": {
      "name": "python"
    }
  },
  "cells": [
    {
      "cell_type": "markdown",
      "source": [
        "# Mount data from Google drive"
      ],
      "metadata": {
        "id": "LlqFB-9unatV"
      }
    },
    {
      "cell_type": "code",
      "execution_count": 91,
      "metadata": {
        "colab": {
          "base_uri": "https://localhost:8080/"
        },
        "id": "R9A_UkBuFvBQ",
        "outputId": "68f8a9d5-90d1-4104-adec-725d9ecee717"
      },
      "outputs": [
        {
          "output_type": "stream",
          "name": "stdout",
          "text": [
            "Drive already mounted at /content/drive; to attempt to forcibly remount, call drive.mount(\"/content/drive\", force_remount=True).\n"
          ]
        }
      ],
      "source": [
        "import pandas as pd\n",
        "import seaborn as sns\n",
        "from google.colab import drive\n",
        "drive.mount('/content/drive')\n",
        "\n",
        "raw_data=pd.read_csv(\"/content/drive/My Drive/train.csv\")"
      ]
    },
    {
      "cell_type": "code",
      "source": [
        "data_frame_obj = raw_data.select_dtypes(['object'])\n",
        "#strip the trailing spaces\n",
        "raw_data[data_frame_obj.columns] = data_frame_obj.apply(lambda x: x.str.strip())\n",
        "raw_data.columns = raw_data.columns.str.strip()"
      ],
      "metadata": {
        "id": "CBdt8e4-Gr32"
      },
      "execution_count": 92,
      "outputs": []
    },
    {
      "cell_type": "markdown",
      "source": [
        "# b) Remove the units from some of the attributes and only keep the numerical values (for example remove kmpl from “Mileage”, CC from “Engine”, bhp from “Power”, and lakh from “New_price”)."
      ],
      "metadata": {
        "id": "-Kv1nZ_r_oo2"
      }
    },
    {
      "cell_type": "code",
      "source": [
        "# Remove units from mentioned attributes\n",
        "raw_data['Mileage'] = raw_data['Mileage'].str.extract('(\\d+.\\d+)').astype(float)\n",
        "raw_data['Engine'] = raw_data['Engine'].str.extract('(\\d+)').astype(float)\n",
        "raw_data['Power'] = raw_data['Power'].str.extract('(\\d+)').astype(float)\n",
        "raw_data['New_Price'] = raw_data['New_Price'].str.extract('(\\d+.\\d+)').astype(float)\n",
        "raw_data.head(5)"
      ],
      "metadata": {
        "id": "E_gDZGKRkSBE",
        "colab": {
          "base_uri": "https://localhost:8080/",
          "height": 206
        },
        "outputId": "a3c93a78-2bf1-4175-f212-a6719ec382bb"
      },
      "execution_count": 93,
      "outputs": [
        {
          "output_type": "execute_result",
          "data": {
            "text/plain": [
              "   Unnamed: 0                              Name    Location  Year  \\\n",
              "0           1  Hyundai Creta 1.6 CRDi SX Option        Pune  2015   \n",
              "1           2                      Honda Jazz V     Chennai  2011   \n",
              "2           3                 Maruti Ertiga VDI     Chennai  2012   \n",
              "3           4   Audi A4 New 2.0 TDI Multitronic  Coimbatore  2013   \n",
              "4           6            Nissan Micra Diesel XV      Jaipur  2013   \n",
              "\n",
              "   Kilometers_Driven Fuel_Type Transmission Owner_Type  Mileage  Engine  \\\n",
              "0              41000    Diesel       Manual      First    19.67  1582.0   \n",
              "1              46000    Petrol       Manual      First      NaN  1199.0   \n",
              "2              87000    Diesel       Manual      First    20.77  1248.0   \n",
              "3              40670    Diesel    Automatic     Second    15.20  1968.0   \n",
              "4              86999    Diesel       Manual      First    23.08  1461.0   \n",
              "\n",
              "   Power  Seats  New_Price  Price  \n",
              "0  126.0    5.0        NaN  12.50  \n",
              "1   88.0    5.0       8.61   4.50  \n",
              "2   88.0    7.0        NaN   6.00  \n",
              "3  140.0    5.0        NaN  17.74  \n",
              "4   63.0    5.0        NaN   3.50  "
            ],
            "text/html": [
              "\n",
              "  <div id=\"df-f22c2dfe-c488-4796-a09e-812fb5c896b7\" class=\"colab-df-container\">\n",
              "    <div>\n",
              "<style scoped>\n",
              "    .dataframe tbody tr th:only-of-type {\n",
              "        vertical-align: middle;\n",
              "    }\n",
              "\n",
              "    .dataframe tbody tr th {\n",
              "        vertical-align: top;\n",
              "    }\n",
              "\n",
              "    .dataframe thead th {\n",
              "        text-align: right;\n",
              "    }\n",
              "</style>\n",
              "<table border=\"1\" class=\"dataframe\">\n",
              "  <thead>\n",
              "    <tr style=\"text-align: right;\">\n",
              "      <th></th>\n",
              "      <th>Unnamed: 0</th>\n",
              "      <th>Name</th>\n",
              "      <th>Location</th>\n",
              "      <th>Year</th>\n",
              "      <th>Kilometers_Driven</th>\n",
              "      <th>Fuel_Type</th>\n",
              "      <th>Transmission</th>\n",
              "      <th>Owner_Type</th>\n",
              "      <th>Mileage</th>\n",
              "      <th>Engine</th>\n",
              "      <th>Power</th>\n",
              "      <th>Seats</th>\n",
              "      <th>New_Price</th>\n",
              "      <th>Price</th>\n",
              "    </tr>\n",
              "  </thead>\n",
              "  <tbody>\n",
              "    <tr>\n",
              "      <th>0</th>\n",
              "      <td>1</td>\n",
              "      <td>Hyundai Creta 1.6 CRDi SX Option</td>\n",
              "      <td>Pune</td>\n",
              "      <td>2015</td>\n",
              "      <td>41000</td>\n",
              "      <td>Diesel</td>\n",
              "      <td>Manual</td>\n",
              "      <td>First</td>\n",
              "      <td>19.67</td>\n",
              "      <td>1582.0</td>\n",
              "      <td>126.0</td>\n",
              "      <td>5.0</td>\n",
              "      <td>NaN</td>\n",
              "      <td>12.50</td>\n",
              "    </tr>\n",
              "    <tr>\n",
              "      <th>1</th>\n",
              "      <td>2</td>\n",
              "      <td>Honda Jazz V</td>\n",
              "      <td>Chennai</td>\n",
              "      <td>2011</td>\n",
              "      <td>46000</td>\n",
              "      <td>Petrol</td>\n",
              "      <td>Manual</td>\n",
              "      <td>First</td>\n",
              "      <td>NaN</td>\n",
              "      <td>1199.0</td>\n",
              "      <td>88.0</td>\n",
              "      <td>5.0</td>\n",
              "      <td>8.61</td>\n",
              "      <td>4.50</td>\n",
              "    </tr>\n",
              "    <tr>\n",
              "      <th>2</th>\n",
              "      <td>3</td>\n",
              "      <td>Maruti Ertiga VDI</td>\n",
              "      <td>Chennai</td>\n",
              "      <td>2012</td>\n",
              "      <td>87000</td>\n",
              "      <td>Diesel</td>\n",
              "      <td>Manual</td>\n",
              "      <td>First</td>\n",
              "      <td>20.77</td>\n",
              "      <td>1248.0</td>\n",
              "      <td>88.0</td>\n",
              "      <td>7.0</td>\n",
              "      <td>NaN</td>\n",
              "      <td>6.00</td>\n",
              "    </tr>\n",
              "    <tr>\n",
              "      <th>3</th>\n",
              "      <td>4</td>\n",
              "      <td>Audi A4 New 2.0 TDI Multitronic</td>\n",
              "      <td>Coimbatore</td>\n",
              "      <td>2013</td>\n",
              "      <td>40670</td>\n",
              "      <td>Diesel</td>\n",
              "      <td>Automatic</td>\n",
              "      <td>Second</td>\n",
              "      <td>15.20</td>\n",
              "      <td>1968.0</td>\n",
              "      <td>140.0</td>\n",
              "      <td>5.0</td>\n",
              "      <td>NaN</td>\n",
              "      <td>17.74</td>\n",
              "    </tr>\n",
              "    <tr>\n",
              "      <th>4</th>\n",
              "      <td>6</td>\n",
              "      <td>Nissan Micra Diesel XV</td>\n",
              "      <td>Jaipur</td>\n",
              "      <td>2013</td>\n",
              "      <td>86999</td>\n",
              "      <td>Diesel</td>\n",
              "      <td>Manual</td>\n",
              "      <td>First</td>\n",
              "      <td>23.08</td>\n",
              "      <td>1461.0</td>\n",
              "      <td>63.0</td>\n",
              "      <td>5.0</td>\n",
              "      <td>NaN</td>\n",
              "      <td>3.50</td>\n",
              "    </tr>\n",
              "  </tbody>\n",
              "</table>\n",
              "</div>\n",
              "    <div class=\"colab-df-buttons\">\n",
              "\n",
              "  <div class=\"colab-df-container\">\n",
              "    <button class=\"colab-df-convert\" onclick=\"convertToInteractive('df-f22c2dfe-c488-4796-a09e-812fb5c896b7')\"\n",
              "            title=\"Convert this dataframe to an interactive table.\"\n",
              "            style=\"display:none;\">\n",
              "\n",
              "  <svg xmlns=\"http://www.w3.org/2000/svg\" height=\"24px\" viewBox=\"0 -960 960 960\">\n",
              "    <path d=\"M120-120v-720h720v720H120Zm60-500h600v-160H180v160Zm220 220h160v-160H400v160Zm0 220h160v-160H400v160ZM180-400h160v-160H180v160Zm440 0h160v-160H620v160ZM180-180h160v-160H180v160Zm440 0h160v-160H620v160Z\"/>\n",
              "  </svg>\n",
              "    </button>\n",
              "\n",
              "  <style>\n",
              "    .colab-df-container {\n",
              "      display:flex;\n",
              "      gap: 12px;\n",
              "    }\n",
              "\n",
              "    .colab-df-convert {\n",
              "      background-color: #E8F0FE;\n",
              "      border: none;\n",
              "      border-radius: 50%;\n",
              "      cursor: pointer;\n",
              "      display: none;\n",
              "      fill: #1967D2;\n",
              "      height: 32px;\n",
              "      padding: 0 0 0 0;\n",
              "      width: 32px;\n",
              "    }\n",
              "\n",
              "    .colab-df-convert:hover {\n",
              "      background-color: #E2EBFA;\n",
              "      box-shadow: 0px 1px 2px rgba(60, 64, 67, 0.3), 0px 1px 3px 1px rgba(60, 64, 67, 0.15);\n",
              "      fill: #174EA6;\n",
              "    }\n",
              "\n",
              "    .colab-df-buttons div {\n",
              "      margin-bottom: 4px;\n",
              "    }\n",
              "\n",
              "    [theme=dark] .colab-df-convert {\n",
              "      background-color: #3B4455;\n",
              "      fill: #D2E3FC;\n",
              "    }\n",
              "\n",
              "    [theme=dark] .colab-df-convert:hover {\n",
              "      background-color: #434B5C;\n",
              "      box-shadow: 0px 1px 3px 1px rgba(0, 0, 0, 0.15);\n",
              "      filter: drop-shadow(0px 1px 2px rgba(0, 0, 0, 0.3));\n",
              "      fill: #FFFFFF;\n",
              "    }\n",
              "  </style>\n",
              "\n",
              "    <script>\n",
              "      const buttonEl =\n",
              "        document.querySelector('#df-f22c2dfe-c488-4796-a09e-812fb5c896b7 button.colab-df-convert');\n",
              "      buttonEl.style.display =\n",
              "        google.colab.kernel.accessAllowed ? 'block' : 'none';\n",
              "\n",
              "      async function convertToInteractive(key) {\n",
              "        const element = document.querySelector('#df-f22c2dfe-c488-4796-a09e-812fb5c896b7');\n",
              "        const dataTable =\n",
              "          await google.colab.kernel.invokeFunction('convertToInteractive',\n",
              "                                                    [key], {});\n",
              "        if (!dataTable) return;\n",
              "\n",
              "        const docLinkHtml = 'Like what you see? Visit the ' +\n",
              "          '<a target=\"_blank\" href=https://colab.research.google.com/notebooks/data_table.ipynb>data table notebook</a>'\n",
              "          + ' to learn more about interactive tables.';\n",
              "        element.innerHTML = '';\n",
              "        dataTable['output_type'] = 'display_data';\n",
              "        await google.colab.output.renderOutput(dataTable, element);\n",
              "        const docLink = document.createElement('div');\n",
              "        docLink.innerHTML = docLinkHtml;\n",
              "        element.appendChild(docLink);\n",
              "      }\n",
              "    </script>\n",
              "  </div>\n",
              "\n",
              "\n",
              "<div id=\"df-53cd3419-bc2a-4043-8d6d-b2c04a5ad21a\">\n",
              "  <button class=\"colab-df-quickchart\" onclick=\"quickchart('df-53cd3419-bc2a-4043-8d6d-b2c04a5ad21a')\"\n",
              "            title=\"Suggest charts\"\n",
              "            style=\"display:none;\">\n",
              "\n",
              "<svg xmlns=\"http://www.w3.org/2000/svg\" height=\"24px\"viewBox=\"0 0 24 24\"\n",
              "     width=\"24px\">\n",
              "    <g>\n",
              "        <path d=\"M19 3H5c-1.1 0-2 .9-2 2v14c0 1.1.9 2 2 2h14c1.1 0 2-.9 2-2V5c0-1.1-.9-2-2-2zM9 17H7v-7h2v7zm4 0h-2V7h2v10zm4 0h-2v-4h2v4z\"/>\n",
              "    </g>\n",
              "</svg>\n",
              "  </button>\n",
              "\n",
              "<style>\n",
              "  .colab-df-quickchart {\n",
              "      --bg-color: #E8F0FE;\n",
              "      --fill-color: #1967D2;\n",
              "      --hover-bg-color: #E2EBFA;\n",
              "      --hover-fill-color: #174EA6;\n",
              "      --disabled-fill-color: #AAA;\n",
              "      --disabled-bg-color: #DDD;\n",
              "  }\n",
              "\n",
              "  [theme=dark] .colab-df-quickchart {\n",
              "      --bg-color: #3B4455;\n",
              "      --fill-color: #D2E3FC;\n",
              "      --hover-bg-color: #434B5C;\n",
              "      --hover-fill-color: #FFFFFF;\n",
              "      --disabled-bg-color: #3B4455;\n",
              "      --disabled-fill-color: #666;\n",
              "  }\n",
              "\n",
              "  .colab-df-quickchart {\n",
              "    background-color: var(--bg-color);\n",
              "    border: none;\n",
              "    border-radius: 50%;\n",
              "    cursor: pointer;\n",
              "    display: none;\n",
              "    fill: var(--fill-color);\n",
              "    height: 32px;\n",
              "    padding: 0;\n",
              "    width: 32px;\n",
              "  }\n",
              "\n",
              "  .colab-df-quickchart:hover {\n",
              "    background-color: var(--hover-bg-color);\n",
              "    box-shadow: 0 1px 2px rgba(60, 64, 67, 0.3), 0 1px 3px 1px rgba(60, 64, 67, 0.15);\n",
              "    fill: var(--button-hover-fill-color);\n",
              "  }\n",
              "\n",
              "  .colab-df-quickchart-complete:disabled,\n",
              "  .colab-df-quickchart-complete:disabled:hover {\n",
              "    background-color: var(--disabled-bg-color);\n",
              "    fill: var(--disabled-fill-color);\n",
              "    box-shadow: none;\n",
              "  }\n",
              "\n",
              "  .colab-df-spinner {\n",
              "    border: 2px solid var(--fill-color);\n",
              "    border-color: transparent;\n",
              "    border-bottom-color: var(--fill-color);\n",
              "    animation:\n",
              "      spin 1s steps(1) infinite;\n",
              "  }\n",
              "\n",
              "  @keyframes spin {\n",
              "    0% {\n",
              "      border-color: transparent;\n",
              "      border-bottom-color: var(--fill-color);\n",
              "      border-left-color: var(--fill-color);\n",
              "    }\n",
              "    20% {\n",
              "      border-color: transparent;\n",
              "      border-left-color: var(--fill-color);\n",
              "      border-top-color: var(--fill-color);\n",
              "    }\n",
              "    30% {\n",
              "      border-color: transparent;\n",
              "      border-left-color: var(--fill-color);\n",
              "      border-top-color: var(--fill-color);\n",
              "      border-right-color: var(--fill-color);\n",
              "    }\n",
              "    40% {\n",
              "      border-color: transparent;\n",
              "      border-right-color: var(--fill-color);\n",
              "      border-top-color: var(--fill-color);\n",
              "    }\n",
              "    60% {\n",
              "      border-color: transparent;\n",
              "      border-right-color: var(--fill-color);\n",
              "    }\n",
              "    80% {\n",
              "      border-color: transparent;\n",
              "      border-right-color: var(--fill-color);\n",
              "      border-bottom-color: var(--fill-color);\n",
              "    }\n",
              "    90% {\n",
              "      border-color: transparent;\n",
              "      border-bottom-color: var(--fill-color);\n",
              "    }\n",
              "  }\n",
              "</style>\n",
              "\n",
              "  <script>\n",
              "    async function quickchart(key) {\n",
              "      const quickchartButtonEl =\n",
              "        document.querySelector('#' + key + ' button');\n",
              "      quickchartButtonEl.disabled = true;  // To prevent multiple clicks.\n",
              "      quickchartButtonEl.classList.add('colab-df-spinner');\n",
              "      try {\n",
              "        const charts = await google.colab.kernel.invokeFunction(\n",
              "            'suggestCharts', [key], {});\n",
              "      } catch (error) {\n",
              "        console.error('Error during call to suggestCharts:', error);\n",
              "      }\n",
              "      quickchartButtonEl.classList.remove('colab-df-spinner');\n",
              "      quickchartButtonEl.classList.add('colab-df-quickchart-complete');\n",
              "    }\n",
              "    (() => {\n",
              "      let quickchartButtonEl =\n",
              "        document.querySelector('#df-53cd3419-bc2a-4043-8d6d-b2c04a5ad21a button');\n",
              "      quickchartButtonEl.style.display =\n",
              "        google.colab.kernel.accessAllowed ? 'block' : 'none';\n",
              "    })();\n",
              "  </script>\n",
              "</div>\n",
              "\n",
              "    </div>\n",
              "  </div>\n"
            ],
            "application/vnd.google.colaboratory.intrinsic+json": {
              "type": "dataframe",
              "variable_name": "raw_data",
              "summary": "{\n  \"name\": \"raw_data\",\n  \"rows\": 5847,\n  \"fields\": [\n    {\n      \"column\": \"Unnamed: 0\",\n      \"properties\": {\n        \"dtype\": \"number\",\n        \"std\": 1736,\n        \"min\": 1,\n        \"max\": 6018,\n        \"num_unique_values\": 5847,\n        \"samples\": [\n          5259,\n          3413,\n          4365\n        ],\n        \"semantic_type\": \"\",\n        \"description\": \"\"\n      }\n    },\n    {\n      \"column\": \"Name\",\n      \"properties\": {\n        \"dtype\": \"category\",\n        \"num_unique_values\": 1804,\n        \"samples\": [\n          \"BMW 7 Series 2007-2012 750Li\",\n          \"Maruti Ertiga SHVS VDI\",\n          \"Mahindra XUV300 W8 Diesel\"\n        ],\n        \"semantic_type\": \"\",\n        \"description\": \"\"\n      }\n    },\n    {\n      \"column\": \"Location\",\n      \"properties\": {\n        \"dtype\": \"category\",\n        \"num_unique_values\": 11,\n        \"samples\": [\n          \"Kochi\",\n          \"Pune\",\n          \"Hyderabad\"\n        ],\n        \"semantic_type\": \"\",\n        \"description\": \"\"\n      }\n    },\n    {\n      \"column\": \"Year\",\n      \"properties\": {\n        \"dtype\": \"number\",\n        \"std\": 3,\n        \"min\": 1998,\n        \"max\": 2019,\n        \"num_unique_values\": 22,\n        \"samples\": [\n          2015,\n          2006,\n          2010\n        ],\n        \"semantic_type\": \"\",\n        \"description\": \"\"\n      }\n    },\n    {\n      \"column\": \"Kilometers_Driven\",\n      \"properties\": {\n        \"dtype\": \"number\",\n        \"std\": 92379,\n        \"min\": 171,\n        \"max\": 6500000,\n        \"num_unique_values\": 3019,\n        \"samples\": [\n          56075,\n          75421,\n          143275\n        ],\n        \"semantic_type\": \"\",\n        \"description\": \"\"\n      }\n    },\n    {\n      \"column\": \"Fuel_Type\",\n      \"properties\": {\n        \"dtype\": \"category\",\n        \"num_unique_values\": 3,\n        \"samples\": [\n          \"Diesel\",\n          \"Petrol\",\n          \"Electric\"\n        ],\n        \"semantic_type\": \"\",\n        \"description\": \"\"\n      }\n    },\n    {\n      \"column\": \"Transmission\",\n      \"properties\": {\n        \"dtype\": \"category\",\n        \"num_unique_values\": 2,\n        \"samples\": [\n          \"Automatic\",\n          \"Manual\"\n        ],\n        \"semantic_type\": \"\",\n        \"description\": \"\"\n      }\n    },\n    {\n      \"column\": \"Owner_Type\",\n      \"properties\": {\n        \"dtype\": \"category\",\n        \"num_unique_values\": 4,\n        \"samples\": [\n          \"Second\",\n          \"Third\"\n        ],\n        \"semantic_type\": \"\",\n        \"description\": \"\"\n      }\n    },\n    {\n      \"column\": \"Mileage\",\n      \"properties\": {\n        \"dtype\": \"number\",\n        \"std\": 4.3580960646183415,\n        \"min\": 0.0,\n        \"max\": 28.4,\n        \"num_unique_values\": 418,\n        \"samples\": [\n          15.74,\n          10.9\n        ],\n        \"semantic_type\": \"\",\n        \"description\": \"\"\n      }\n    },\n    {\n      \"column\": \"Engine\",\n      \"properties\": {\n        \"dtype\": \"number\",\n        \"std\": 601.9725868337512,\n        \"min\": 72.0,\n        \"max\": 5998.0,\n        \"num_unique_values\": 140,\n        \"samples\": [\n          2495.0,\n          1794.0\n        ],\n        \"semantic_type\": \"\",\n        \"description\": \"\"\n      }\n    },\n    {\n      \"column\": \"Power\",\n      \"properties\": {\n        \"dtype\": \"number\",\n        \"std\": 53.94027079402857,\n        \"min\": 34.0,\n        \"max\": 560.0,\n        \"num_unique_values\": 188,\n        \"samples\": [\n          552.0,\n          340.0\n        ],\n        \"semantic_type\": \"\",\n        \"description\": \"\"\n      }\n    },\n    {\n      \"column\": \"Seats\",\n      \"properties\": {\n        \"dtype\": \"number\",\n        \"std\": 0.8066681227181947,\n        \"min\": 2.0,\n        \"max\": 10.0,\n        \"num_unique_values\": 8,\n        \"samples\": [\n          7.0,\n          2.0\n        ],\n        \"semantic_type\": \"\",\n        \"description\": \"\"\n      }\n    },\n    {\n      \"column\": \"New_Price\",\n      \"properties\": {\n        \"dtype\": \"number\",\n        \"std\": 20.375092644566223,\n        \"min\": 1.02,\n        \"max\": 99.92,\n        \"num_unique_values\": 525,\n        \"samples\": [\n          20.8,\n          10.28\n        ],\n        \"semantic_type\": \"\",\n        \"description\": \"\"\n      }\n    },\n    {\n      \"column\": \"Price\",\n      \"properties\": {\n        \"dtype\": \"number\",\n        \"std\": 11.275965706808474,\n        \"min\": 0.44,\n        \"max\": 160.0,\n        \"num_unique_values\": 1366,\n        \"samples\": [\n          3.98,\n          3.78\n        ],\n        \"semantic_type\": \"\",\n        \"description\": \"\"\n      }\n    }\n  ]\n}"
            }
          },
          "metadata": {},
          "execution_count": 93
        }
      ]
    },
    {
      "cell_type": "markdown",
      "source": [
        "# a)Look for the missing values in all the columns and either impute them (replace with mean, median, or mode) or drop them. Justify your action for this task.     "
      ],
      "metadata": {
        "id": "n7rmyJHbollt"
      }
    },
    {
      "cell_type": "code",
      "source": [
        "# Check for missing values\n",
        "missing_values = raw_data.isnull().sum()\n",
        "print(\"Missing Values:\")\n",
        "print(missing_values)"
      ],
      "metadata": {
        "colab": {
          "base_uri": "https://localhost:8080/"
        },
        "id": "gs4m1JHgf5Z5",
        "outputId": "46fa4e4f-12e8-42dd-c93f-79d56ed129f3"
      },
      "execution_count": 94,
      "outputs": [
        {
          "output_type": "stream",
          "name": "stdout",
          "text": [
            "Missing Values:\n",
            "Unnamed: 0              0\n",
            "Name                    0\n",
            "Location                0\n",
            "Year                    0\n",
            "Kilometers_Driven       0\n",
            "Fuel_Type               0\n",
            "Transmission            0\n",
            "Owner_Type              0\n",
            "Mileage                 3\n",
            "Engine                 36\n",
            "Power                  36\n",
            "Seats                  38\n",
            "New_Price            5046\n",
            "Price                   0\n",
            "dtype: int64\n"
          ]
        }
      ]
    },
    {
      "cell_type": "code",
      "source": [
        "sns.boxplot(raw_data.Mileage)"
      ],
      "metadata": {
        "colab": {
          "base_uri": "https://localhost:8080/",
          "height": 429
        },
        "id": "HG4yVkh0uxpG",
        "outputId": "4263dd53-1923-4b1d-8313-6511546d858a"
      },
      "execution_count": 95,
      "outputs": [
        {
          "output_type": "execute_result",
          "data": {
            "text/plain": [
              "<Axes: ylabel='Mileage'>"
            ]
          },
          "metadata": {},
          "execution_count": 95
        },
        {
          "output_type": "display_data",
          "data": {
            "text/plain": [
              "<Figure size 640x480 with 1 Axes>"
            ],
            "image/png": "[encoded data removed]"
          },
          "metadata": {}
        }
      ]
    },
    {
      "cell_type": "code",
      "source": [
        "sns.boxplot(raw_data.Engine)"
      ],
      "metadata": {
        "colab": {
          "base_uri": "https://localhost:8080/",
          "height": 429
        },
        "id": "F62O_3483zdS",
        "outputId": "a8b91bd5-1de1-43da-863a-3d93eff932c6"
      },
      "execution_count": 96,
      "outputs": [
        {
          "output_type": "execute_result",
          "data": {
            "text/plain": [
              "<Axes: ylabel='Engine'>"
            ]
          },
          "metadata": {},
          "execution_count": 96
        },
        {
          "output_type": "display_data",
          "data": {
            "text/plain": [
              "<Figure size 640x480 with 1 Axes>"
            ],
            "image/png": "[encoded data removed]"
          },
          "metadata": {}
        }
      ]
    },
    {
      "cell_type": "code",
      "source": [
        "sns.boxplot(raw_data.Power)"
      ],
      "metadata": {
        "colab": {
          "base_uri": "https://localhost:8080/",
          "height": 429
        },
        "id": "xgVLLXKM6DnE",
        "outputId": "83b9cfca-41f6-4fd5-eb42-7fafb9867dad"
      },
      "execution_count": 97,
      "outputs": [
        {
          "output_type": "execute_result",
          "data": {
            "text/plain": [
              "<Axes: ylabel='Power'>"
            ]
          },
          "metadata": {},
          "execution_count": 97
        },
        {
          "output_type": "display_data",
          "data": {
            "text/plain": [
              "<Figure size 640x480 with 1 Axes>"
            ],
            "image/png": "[encoded data removed]"
          },
          "metadata": {}
        }
      ]
    },
    {
      "cell_type": "code",
      "source": [
        "#replace Mileage, Engine and power columns with their medians respectively\n",
        "raw_data['Mileage'].fillna(raw_data['Mileage'].median(), inplace=True)\n",
        "raw_data['Engine'].fillna(raw_data['Engine'].median(), inplace=True)\n",
        "raw_data['Power'].fillna(raw_data['Power'].median(), inplace=True)\n",
        "\n",
        "#replace seats column with its mode value\n",
        "raw_data['Seats'].fillna(raw_data['Seats'].mode()[0], inplace=True)\n",
        "\n",
        "#drop new price column\n",
        "raw_data.drop('New_Price', axis=1, inplace=True)"
      ],
      "metadata": {
        "id": "aVsjahcx-TGG"
      },
      "execution_count": 98,
      "outputs": []
    },
    {
      "cell_type": "code",
      "source": [
        "# Check for missing values\n",
        "missing_values = raw_data.isnull().sum()\n",
        "print(\"Missing Values:\")\n",
        "print(missing_values)"
      ],
      "metadata": {
        "id": "08bu2PjEGuZf",
        "colab": {
          "base_uri": "https://localhost:8080/"
        },
        "outputId": "438d1c01-4075-4d92-8f72-96ea731ccb87"
      },
      "execution_count": 99,
      "outputs": [
        {
          "output_type": "stream",
          "name": "stdout",
          "text": [
            "Missing Values:\n",
            "Unnamed: 0           0\n",
            "Name                 0\n",
            "Location             0\n",
            "Year                 0\n",
            "Kilometers_Driven    0\n",
            "Fuel_Type            0\n",
            "Transmission         0\n",
            "Owner_Type           0\n",
            "Mileage              0\n",
            "Engine               0\n",
            "Power                0\n",
            "Seats                0\n",
            "Price                0\n",
            "dtype: int64\n"
          ]
        }
      ]
    },
    {
      "cell_type": "code",
      "source": [
        "#save the clean file to data_clean\n",
        "clean_dat=raw_data.to_csv('/content/drive/My Drive/cleaned_dataset.csv')"
      ],
      "metadata": {
        "id": "-PJZCabtGwfr"
      },
      "execution_count": 100,
      "outputs": []
    },
    {
      "cell_type": "markdown",
      "source": [
        "# C) Change the categorical variables (“Fuel_Type” and “Transmission”) into numerical one hot encoded value."
      ],
      "metadata": {
        "id": "9YF36xpwE6My"
      }
    },
    {
      "cell_type": "code",
      "source": [
        "data=pd.read_csv('/content/drive/My Drive/cleaned_dataset.csv')\n",
        "# One-hot encode categorical variables\n",
        "print(data['Fuel_Type'].unique())\n",
        "print(data['Transmission'].unique())\n",
        "print(data['Owner_Type'].unique())"
      ],
      "metadata": {
        "id": "Stp_biNekxzL",
        "colab": {
          "base_uri": "https://localhost:8080/"
        },
        "outputId": "9c7e5012-9a94-40ed-a822-44d2c68e2db8"
      },
      "execution_count": 101,
      "outputs": [
        {
          "output_type": "stream",
          "name": "stdout",
          "text": [
            "['Diesel' 'Petrol' 'Electric']\n",
            "['Manual' 'Automatic']\n",
            "['First' 'Second' 'Fourth & Above' 'Third']\n"
          ]
        }
      ]
    },
    {
      "cell_type": "code",
      "source": [
        "data['Fuel_Type'].replace({'Diesel': 0, 'Petrol': 1, 'Electric': 2}, inplace=True)\n",
        "data['Transmission'].replace({'Manual': 0, 'Automatic': 1}, inplace=True)\n",
        "data['Owner_Type'].replace({'First': 1, 'Second': 2, 'Third': 3, 'Fourth & Above': 4}, inplace=True)\n",
        "data.head(5)\n",
        "\n",
        "#save the one hot encoded file\n",
        "one_hot_encoded_file = '/content/drive/My Drive/one_hot_encoded_data.csv'\n",
        "data.to_csv(one_hot_encoded_file, index=False)"
      ],
      "metadata": {
        "id": "HsWsZv8OKSgN"
      },
      "execution_count": 102,
      "outputs": []
    },
    {
      "cell_type": "markdown",
      "source": [
        "# d) Create one more feature and add this column to the dataset (you can use mutate function in R for this). For example, you can calculate the current age of the car by subtracting “Year” value from the current year.   "
      ],
      "metadata": {
        "id": "JWLpcAxzN7jt"
      }
    },
    {
      "cell_type": "code",
      "source": [
        "#clauculate current age of the car\n",
        "from datetime import datetime\n",
        "\n",
        "# Calculate current year\n",
        "present_year = datetime.now().year\n",
        "\n",
        "# Create new feature for current age of the car\n",
        "data['Current_Age'] = present_year - data['Year']"
      ],
      "metadata": {
        "id": "uUaSPxB4k-BM"
      },
      "execution_count": 103,
      "outputs": []
    },
    {
      "cell_type": "code",
      "source": [
        "print(min(data['Price']))"
      ],
      "metadata": {
        "colab": {
          "base_uri": "https://localhost:8080/"
        },
        "id": "uqUHJev-Rqf0",
        "outputId": "c81f81c1-75a7-4179-e623-4bb3d86c1684"
      },
      "execution_count": 104,
      "outputs": [
        {
          "output_type": "stream",
          "name": "stdout",
          "text": [
            "0.44\n"
          ]
        }
      ]
    },
    {
      "cell_type": "code",
      "source": [
        "print(max(data['Price']))"
      ],
      "metadata": {
        "colab": {
          "base_uri": "https://localhost:8080/"
        },
        "id": "NiW8bMEKR1kX",
        "outputId": "d66877cb-4a50-4352-bf86-3a7d430773be"
      },
      "execution_count": 105,
      "outputs": [
        {
          "output_type": "stream",
          "name": "stdout",
          "text": [
            "160.0\n"
          ]
        }
      ]
    },
    {
      "cell_type": "code",
      "source": [
        "# Create a new category column based on price ranges\n",
        "budget_range = (0, 50)\n",
        "mid_range = (50, 100)\n",
        "luxury_range = (100, float('inf'))\n",
        "\n",
        "def Price_category(price):\n",
        "    if price <= 50:\n",
        "        return 'Budget'\n",
        "    elif price <= 100:\n",
        "        return 'Mid-range'\n",
        "    else:\n",
        "        return 'Luxury'\n",
        "\n",
        "# Apply categorize_price function to create 'Price Category' column\n",
        "data['Price Category'] = data['Price'].apply(Price_category)\n",
        "\n",
        "# Print the DataFrame with Price Category\n",
        "print(data)"
      ],
      "metadata": {
        "colab": {
          "base_uri": "https://localhost:8080/"
        },
        "id": "jBKVY6zbRbWx",
        "outputId": "64c70fc8-abb0-4d50-e5d2-0de11b5c4834"
      },
      "execution_count": 106,
      "outputs": [
        {
          "output_type": "stream",
          "name": "stdout",
          "text": [
            "      Unnamed: 0.1  Unnamed: 0                              Name    Location  \\\n",
            "0                0           1  Hyundai Creta 1.6 CRDi SX Option        Pune   \n",
            "1                1           2                      Honda Jazz V     Chennai   \n",
            "2                2           3                 Maruti Ertiga VDI     Chennai   \n",
            "3                3           4   Audi A4 New 2.0 TDI Multitronic  Coimbatore   \n",
            "4                4           6            Nissan Micra Diesel XV      Jaipur   \n",
            "...            ...         ...                               ...         ...   \n",
            "5842          5842        6014                  Maruti Swift VDI       Delhi   \n",
            "5843          5843        6015          Hyundai Xcent 1.1 CRDi S      Jaipur   \n",
            "5844          5844        6016             Mahindra Xylo D4 BSIV      Jaipur   \n",
            "5845          5845        6017                Maruti Wagon R VXI     Kolkata   \n",
            "5846          5846        6018             Chevrolet Beat Diesel   Hyderabad   \n",
            "\n",
            "      Year  Kilometers_Driven  Fuel_Type  Transmission  Owner_Type  Mileage  \\\n",
            "0     2015              41000          0             0           1    19.67   \n",
            "1     2011              46000          1             0           1    18.19   \n",
            "2     2012              87000          0             0           1    20.77   \n",
            "3     2013              40670          0             1           2    15.20   \n",
            "4     2013              86999          0             0           1    23.08   \n",
            "...    ...                ...        ...           ...         ...      ...   \n",
            "5842  2014              27365          0             0           1    28.40   \n",
            "5843  2015             100000          0             0           1    24.40   \n",
            "5844  2012              55000          0             0           2    14.00   \n",
            "5845  2013              46000          1             0           1    18.90   \n",
            "5846  2011              47000          0             0           1    25.44   \n",
            "\n",
            "      Engine  Power  Seats  Price  Current_Age Price Category  \n",
            "0     1582.0  126.0    5.0  12.50            9         Budget  \n",
            "1     1199.0   88.0    5.0   4.50           13         Budget  \n",
            "2     1248.0   88.0    7.0   6.00           12         Budget  \n",
            "3     1968.0  140.0    5.0  17.74           11         Budget  \n",
            "4     1461.0   63.0    5.0   3.50           11         Budget  \n",
            "...      ...    ...    ...    ...          ...            ...  \n",
            "5842  1248.0   74.0    5.0   4.75           10         Budget  \n",
            "5843  1120.0   71.0    5.0   4.00            9         Budget  \n",
            "5844  2498.0  112.0    8.0   2.90           12         Budget  \n",
            "5845   998.0   67.0    5.0   2.65           11         Budget  \n",
            "5846   936.0   57.0    5.0   2.50           13         Budget  \n",
            "\n",
            "[5847 rows x 16 columns]\n"
          ]
        }
      ]
    },
    {
      "cell_type": "code",
      "source": [
        "#save the new columns\n",
        "new_columns_file = '/content/drive/My Drive/new_columns_file.csv'\n",
        "data.to_csv(new_columns_file, index=False)"
      ],
      "metadata": {
        "id": "L-FSXfdFUNG7"
      },
      "execution_count": 107,
      "outputs": []
    },
    {
      "cell_type": "markdown",
      "source": [
        "# e) Perform select, filter, rename, mutate, arrange and summarize with group by operations (or their equivalent operations in python) on this dataset."
      ],
      "metadata": {
        "id": "LJDET4rVOcP2"
      }
    },
    {
      "cell_type": "code",
      "source": [
        "# Selecting specific columns\n",
        "selected_data = data[['Name', 'Location', 'Mileage', 'Price']]\n",
        "print(selected_data)"
      ],
      "metadata": {
        "colab": {
          "base_uri": "https://localhost:8080/"
        },
        "id": "rt5CR7eQWdlo",
        "outputId": "634c1caf-6fc8-492b-b440-04db127a6e0b"
      },
      "execution_count": 108,
      "outputs": [
        {
          "output_type": "stream",
          "name": "stdout",
          "text": [
            "                                  Name    Location  Mileage  Price\n",
            "0     Hyundai Creta 1.6 CRDi SX Option        Pune    19.67  12.50\n",
            "1                         Honda Jazz V     Chennai    18.19   4.50\n",
            "2                    Maruti Ertiga VDI     Chennai    20.77   6.00\n",
            "3      Audi A4 New 2.0 TDI Multitronic  Coimbatore    15.20  17.74\n",
            "4               Nissan Micra Diesel XV      Jaipur    23.08   3.50\n",
            "...                                ...         ...      ...    ...\n",
            "5842                  Maruti Swift VDI       Delhi    28.40   4.75\n",
            "5843          Hyundai Xcent 1.1 CRDi S      Jaipur    24.40   4.00\n",
            "5844             Mahindra Xylo D4 BSIV      Jaipur    14.00   2.90\n",
            "5845                Maruti Wagon R VXI     Kolkata    18.90   2.65\n",
            "5846             Chevrolet Beat Diesel   Hyderabad    25.44   2.50\n",
            "\n",
            "[5847 rows x 4 columns]\n"
          ]
        }
      ]
    },
    {
      "cell_type": "code",
      "source": [
        "# Filtering data\n",
        "filtered_data = data[data['Transmission'] == 1]\n",
        "print(filtered_data)"
      ],
      "metadata": {
        "colab": {
          "base_uri": "https://localhost:8080/"
        },
        "id": "ZRlG8HOWW-_E",
        "outputId": "f9c83aec-33f7-4c73-b828-dfb9b09d7c7d"
      },
      "execution_count": 109,
      "outputs": [
        {
          "output_type": "stream",
          "name": "stdout",
          "text": [
            "      Unnamed: 0.1  Unnamed: 0                               Name    Location  \\\n",
            "3                3           4    Audi A4 New 2.0 TDI Multitronic  Coimbatore   \n",
            "5                5           7  Toyota Innova Crysta 2.8 GX AT 8S      Mumbai   \n",
            "9                9          11        Honda City 1.5 V AT Sunroof     Kolkata   \n",
            "11              11          13   Land Rover Range Rover 2.2L Pure       Delhi   \n",
            "12              12          14     Land Rover Freelander 2 TD4 SE        Pune   \n",
            "...            ...         ...                                ...         ...   \n",
            "5829          5829        6001          Audi A6 2011-2015 2.0 TDI       Kochi   \n",
            "5834          5834        6006   Mercedes-Benz M-Class ML 320 CDI      Mumbai   \n",
            "5836          5836        6008            Porsche Panamera Diesel   Hyderabad   \n",
            "5837          5837        6009                Toyota Camry Hybrid      Mumbai   \n",
            "5839          5839        6011            Skoda Superb 3.6 V6 FSI   Hyderabad   \n",
            "\n",
            "      Year  Kilometers_Driven  Fuel_Type  Transmission  Owner_Type  Mileage  \\\n",
            "3     2013              40670          0             1           2    15.20   \n",
            "5     2016              36000          0             1           1    11.36   \n",
            "9     2012              60000          1             1           1    16.80   \n",
            "11    2014              72000          0             1           1    12.70   \n",
            "12    2012              85000          0             1           2     0.00   \n",
            "...    ...                ...        ...           ...         ...      ...   \n",
            "5829  2013              91903          0             1           1    17.68   \n",
            "5834  2009             102002          0             1           1     8.70   \n",
            "5836  2013              40000          0             1           2    17.85   \n",
            "5837  2015              33500          1             1           1    19.16   \n",
            "5839  2009              53000          1             1           1     0.00   \n",
            "\n",
            "      Engine  Power  Seats  Price  Current_Age Price Category  \n",
            "3     1968.0  140.0    5.0  17.74           11         Budget  \n",
            "5     2755.0  171.0    8.0  17.50            8         Budget  \n",
            "9     1497.0  116.0    5.0   4.49           12         Budget  \n",
            "11    2179.0  187.0    5.0  27.00           10         Budget  \n",
            "12    2179.0  115.0    5.0  17.50           12         Budget  \n",
            "...      ...    ...    ...    ...          ...            ...  \n",
            "5829  1968.0  174.0    5.0  17.56           11         Budget  \n",
            "5834  2987.0  224.0    5.0  10.75           15         Budget  \n",
            "5836  2967.0  300.0    4.0  45.00           11         Budget  \n",
            "5837  2494.0  158.0    5.0  19.75            9         Budget  \n",
            "5839  3597.0  262.0    5.0   4.75           15         Budget  \n",
            "\n",
            "[1712 rows x 16 columns]\n"
          ]
        }
      ]
    },
    {
      "cell_type": "code",
      "source": [
        "# Renaming columns\n",
        "renamed_data = data.rename(columns={'Name': 'Car Model', 'Location': 'City'})\n",
        "print(renamed_data)"
      ],
      "metadata": {
        "colab": {
          "base_uri": "https://localhost:8080/"
        },
        "id": "WX1oaRnxYtS7",
        "outputId": "f95cd6c6-0737-40f9-e997-46a6a23e1458"
      },
      "execution_count": 110,
      "outputs": [
        {
          "output_type": "stream",
          "name": "stdout",
          "text": [
            "      Unnamed: 0.1  Unnamed: 0                         Car Model        City  \\\n",
            "0                0           1  Hyundai Creta 1.6 CRDi SX Option        Pune   \n",
            "1                1           2                      Honda Jazz V     Chennai   \n",
            "2                2           3                 Maruti Ertiga VDI     Chennai   \n",
            "3                3           4   Audi A4 New 2.0 TDI Multitronic  Coimbatore   \n",
            "4                4           6            Nissan Micra Diesel XV      Jaipur   \n",
            "...            ...         ...                               ...         ...   \n",
            "5842          5842        6014                  Maruti Swift VDI       Delhi   \n",
            "5843          5843        6015          Hyundai Xcent 1.1 CRDi S      Jaipur   \n",
            "5844          5844        6016             Mahindra Xylo D4 BSIV      Jaipur   \n",
            "5845          5845        6017                Maruti Wagon R VXI     Kolkata   \n",
            "5846          5846        6018             Chevrolet Beat Diesel   Hyderabad   \n",
            "\n",
            "      Year  Kilometers_Driven  Fuel_Type  Transmission  Owner_Type  Mileage  \\\n",
            "0     2015              41000          0             0           1    19.67   \n",
            "1     2011              46000          1             0           1    18.19   \n",
            "2     2012              87000          0             0           1    20.77   \n",
            "3     2013              40670          0             1           2    15.20   \n",
            "4     2013              86999          0             0           1    23.08   \n",
            "...    ...                ...        ...           ...         ...      ...   \n",
            "5842  2014              27365          0             0           1    28.40   \n",
            "5843  2015             100000          0             0           1    24.40   \n",
            "5844  2012              55000          0             0           2    14.00   \n",
            "5845  2013              46000          1             0           1    18.90   \n",
            "5846  2011              47000          0             0           1    25.44   \n",
            "\n",
            "      Engine  Power  Seats  Price  Current_Age Price Category  \n",
            "0     1582.0  126.0    5.0  12.50            9         Budget  \n",
            "1     1199.0   88.0    5.0   4.50           13         Budget  \n",
            "2     1248.0   88.0    7.0   6.00           12         Budget  \n",
            "3     1968.0  140.0    5.0  17.74           11         Budget  \n",
            "4     1461.0   63.0    5.0   3.50           11         Budget  \n",
            "...      ...    ...    ...    ...          ...            ...  \n",
            "5842  1248.0   74.0    5.0   4.75           10         Budget  \n",
            "5843  1120.0   71.0    5.0   4.00            9         Budget  \n",
            "5844  2498.0  112.0    8.0   2.90           12         Budget  \n",
            "5845   998.0   67.0    5.0   2.65           11         Budget  \n",
            "5846   936.0   57.0    5.0   2.50           13         Budget  \n",
            "\n",
            "[5847 rows x 16 columns]\n"
          ]
        }
      ]
    },
    {
      "cell_type": "code",
      "source": [
        "# Mutating data\n",
        "data['Fuel_efficiency_rating'] = pd.cut(data['Mileage'], bins=[0, 15, 20, float('inf')], labels=['Low', 'Medium', 'High'])\n",
        "print(data)"
      ],
      "metadata": {
        "colab": {
          "base_uri": "https://localhost:8080/"
        },
        "id": "sUd02NaRZIEo",
        "outputId": "96eed32f-a557-4810-85ea-3b9b6b96cbfc"
      },
      "execution_count": 111,
      "outputs": [
        {
          "output_type": "stream",
          "name": "stdout",
          "text": [
            "      Unnamed: 0.1  Unnamed: 0                              Name    Location  \\\n",
            "0                0           1  Hyundai Creta 1.6 CRDi SX Option        Pune   \n",
            "1                1           2                      Honda Jazz V     Chennai   \n",
            "2                2           3                 Maruti Ertiga VDI     Chennai   \n",
            "3                3           4   Audi A4 New 2.0 TDI Multitronic  Coimbatore   \n",
            "4                4           6            Nissan Micra Diesel XV      Jaipur   \n",
            "...            ...         ...                               ...         ...   \n",
            "5842          5842        6014                  Maruti Swift VDI       Delhi   \n",
            "5843          5843        6015          Hyundai Xcent 1.1 CRDi S      Jaipur   \n",
            "5844          5844        6016             Mahindra Xylo D4 BSIV      Jaipur   \n",
            "5845          5845        6017                Maruti Wagon R VXI     Kolkata   \n",
            "5846          5846        6018             Chevrolet Beat Diesel   Hyderabad   \n",
            "\n",
            "      Year  Kilometers_Driven  Fuel_Type  Transmission  Owner_Type  Mileage  \\\n",
            "0     2015              41000          0             0           1    19.67   \n",
            "1     2011              46000          1             0           1    18.19   \n",
            "2     2012              87000          0             0           1    20.77   \n",
            "3     2013              40670          0             1           2    15.20   \n",
            "4     2013              86999          0             0           1    23.08   \n",
            "...    ...                ...        ...           ...         ...      ...   \n",
            "5842  2014              27365          0             0           1    28.40   \n",
            "5843  2015             100000          0             0           1    24.40   \n",
            "5844  2012              55000          0             0           2    14.00   \n",
            "5845  2013              46000          1             0           1    18.90   \n",
            "5846  2011              47000          0             0           1    25.44   \n",
            "\n",
            "      Engine  Power  Seats  Price  Current_Age Price Category  \\\n",
            "0     1582.0  126.0    5.0  12.50            9         Budget   \n",
            "1     1199.0   88.0    5.0   4.50           13         Budget   \n",
            "2     1248.0   88.0    7.0   6.00           12         Budget   \n",
            "3     1968.0  140.0    5.0  17.74           11         Budget   \n",
            "4     1461.0   63.0    5.0   3.50           11         Budget   \n",
            "...      ...    ...    ...    ...          ...            ...   \n",
            "5842  1248.0   74.0    5.0   4.75           10         Budget   \n",
            "5843  1120.0   71.0    5.0   4.00            9         Budget   \n",
            "5844  2498.0  112.0    8.0   2.90           12         Budget   \n",
            "5845   998.0   67.0    5.0   2.65           11         Budget   \n",
            "5846   936.0   57.0    5.0   2.50           13         Budget   \n",
            "\n",
            "     Fuel_efficiency_rating  \n",
            "0                    Medium  \n",
            "1                    Medium  \n",
            "2                      High  \n",
            "3                    Medium  \n",
            "4                      High  \n",
            "...                     ...  \n",
            "5842                   High  \n",
            "5843                   High  \n",
            "5844                    Low  \n",
            "5845                 Medium  \n",
            "5846                   High  \n",
            "\n",
            "[5847 rows x 17 columns]\n"
          ]
        }
      ]
    },
    {
      "cell_type": "code",
      "source": [
        "# Arranging data by a column\n",
        "arranged_data = data.sort_values(by='Name')\n",
        "print(arranged_data)"
      ],
      "metadata": {
        "colab": {
          "base_uri": "https://localhost:8080/"
        },
        "id": "OgBFjYreZII8",
        "outputId": "d02e766f-aa5e-4f65-dfdd-fe2668fa5595"
      },
      "execution_count": 112,
      "outputs": [
        {
          "output_type": "stream",
          "name": "stdout",
          "text": [
            "      Unnamed: 0.1  Unnamed: 0                            Name   Location  \\\n",
            "1182          1182        1221  Ambassador Classic Nova Diesel    Chennai   \n",
            "383            383         398       Audi A3 35 TDI Attraction    Chennai   \n",
            "4643          4643        4782          Audi A3 35 TDI Premium     Mumbai   \n",
            "4845          4845        4989     Audi A3 35 TDI Premium Plus     Mumbai   \n",
            "1897          1897        1954       Audi A3 35 TDI Technology      Delhi   \n",
            "...            ...         ...                             ...        ...   \n",
            "3918          3918        4044                   Volvo XC60 D5  Ahmedabad   \n",
            "3808          3808        3933                   Volvo XC60 D5  Hyderabad   \n",
            "1140          1140        1178       Volvo XC60 D5 Inscription      Kochi   \n",
            "4364          4364        4497  Volvo XC90 2007-2015 D5 AT AWD      Kochi   \n",
            "2326          2326        2401     Volvo XC90 2007-2015 D5 AWD      Kochi   \n",
            "\n",
            "      Year  Kilometers_Driven  Fuel_Type  Transmission  Owner_Type  Mileage  \\\n",
            "1182  2003              80000          0             0           3    12.80   \n",
            "383   2014              79271          0             1           1    20.38   \n",
            "4643  2016              20003          0             1           1    20.38   \n",
            "4845  2016              39000          0             1           1    20.38   \n",
            "1897  2017              22000          0             1           2    20.38   \n",
            "...    ...                ...        ...           ...         ...      ...   \n",
            "3918  2011             173000          0             1           1    13.50   \n",
            "3808  2015             100000          0             1           1    13.50   \n",
            "1140  2014              86925          0             1           1    11.20   \n",
            "4364  2014             102001          0             1           1    11.10   \n",
            "2326  2014              89230          0             0           1    11.10   \n",
            "\n",
            "      Engine  Power  Seats  Price  Current_Age Price Category  \\\n",
            "1182  1489.0   35.0    5.0   1.35           21         Budget   \n",
            "383   1968.0  143.0    5.0  16.50           10         Budget   \n",
            "4643  1968.0  143.0    5.0  19.25            8         Budget   \n",
            "4845  1968.0  143.0    5.0  18.90            8         Budget   \n",
            "1897  1968.0  143.0    5.0  22.50            7         Budget   \n",
            "...      ...    ...    ...    ...          ...            ...   \n",
            "3918  2400.0  215.0    5.0  12.00           13         Budget   \n",
            "3808  2400.0  215.0    5.0  32.50            9         Budget   \n",
            "1140  2400.0  215.0    5.0  17.18           10         Budget   \n",
            "4364  2400.0  200.0    7.0  23.58           10         Budget   \n",
            "2326  2400.0  200.0    7.0  23.65           10         Budget   \n",
            "\n",
            "     Fuel_efficiency_rating  \n",
            "1182                    Low  \n",
            "383                    High  \n",
            "4643                   High  \n",
            "4845                   High  \n",
            "1897                   High  \n",
            "...                     ...  \n",
            "3918                    Low  \n",
            "3808                    Low  \n",
            "1140                    Low  \n",
            "4364                    Low  \n",
            "2326                    Low  \n",
            "\n",
            "[5847 rows x 17 columns]\n"
          ]
        }
      ]
    },
    {
      "cell_type": "code",
      "source": [
        "# Summarizing data with group by operation\n",
        "summary_data = data.groupby('Name')['Price'].mean()\n",
        "print(summary_data)"
      ],
      "metadata": {
        "colab": {
          "base_uri": "https://localhost:8080/"
        },
        "id": "klvzJde6lg6a",
        "outputId": "9130b19e-5941-482f-ef7e-ef3ccaf2a6b2"
      },
      "execution_count": 113,
      "outputs": [
        {
          "output_type": "stream",
          "name": "stdout",
          "text": [
            "Name\n",
            "Ambassador Classic Nova Diesel     1.350000\n",
            "Audi A3 35 TDI Attraction         16.500000\n",
            "Audi A3 35 TDI Premium            19.250000\n",
            "Audi A3 35 TDI Premium Plus       18.900000\n",
            "Audi A3 35 TDI Technology         22.500000\n",
            "                                    ...    \n",
            "Volvo XC60 D4 Summum              18.250000\n",
            "Volvo XC60 D5                     19.433333\n",
            "Volvo XC60 D5 Inscription         17.180000\n",
            "Volvo XC90 2007-2015 D5 AT AWD    23.580000\n",
            "Volvo XC90 2007-2015 D5 AWD       23.650000\n",
            "Name: Price, Length: 1804, dtype: float64\n"
          ]
        }
      ]
    }
  ]
}